{
 "cells": [
  {
   "cell_type": "code",
   "execution_count": 16,
   "id": "3fbdfe31",
   "metadata": {},
   "outputs": [],
   "source": [
    "#Import the dependencies \n",
    "import pandas as pd\n",
    "import numpy as np\n",
    "import matplotlib.pyplot as plt\n",
    "import seaborn as sns\n",
    "from scipy import stats\n",
    "from textblob import TextBlob \n",
    "import os"
   ]
  },
  {
   "cell_type": "code",
   "execution_count": 2,
   "id": "c6507e2e",
   "metadata": {},
   "outputs": [],
   "source": [
    "#Load dataset\n",
    "df = pd.read_csv('F:/Week1_Challenge/Data/raw_analyst_ratings.csv')\n",
    "#df=pd.read_csv('F:/solar-challenge-week1/data/togo_raw.csv')"
   ]
  },
  {
   "cell_type": "code",
   "execution_count": 3,
   "id": "69ffd3c3",
   "metadata": {},
   "outputs": [
    {
     "name": "stdout",
     "output_type": "stream",
     "text": [
      "dataset info\n",
      "Dataset shape: (1407328, 6)\n",
      "Dataset columns: Index(['Unnamed: 0', 'headline', 'url', 'publisher', 'date', 'stock'], dtype='object')\n",
      "An overview of the dataset: the first 5 rows\n",
      "   Unnamed: 0                                           headline  \\\n",
      "0           0            Stocks That Hit 52-Week Highs On Friday   \n",
      "1           1         Stocks That Hit 52-Week Highs On Wednesday   \n",
      "2           2                      71 Biggest Movers From Friday   \n",
      "3           3       46 Stocks Moving In Friday's Mid-Day Session   \n",
      "4           4  B of A Securities Maintains Neutral on Agilent...   \n",
      "\n",
      "                                                 url          publisher  \\\n",
      "0  https://www.benzinga.com/news/20/06/16190091/s...  Benzinga Insights   \n",
      "1  https://www.benzinga.com/news/20/06/16170189/s...  Benzinga Insights   \n",
      "2  https://www.benzinga.com/news/20/05/16103463/7...         Lisa Levin   \n",
      "3  https://www.benzinga.com/news/20/05/16095921/4...         Lisa Levin   \n",
      "4  https://www.benzinga.com/news/20/05/16095304/b...         Vick Meyer   \n",
      "\n",
      "                        date stock  \n",
      "0  2020-06-05 10:30:54-04:00     A  \n",
      "1  2020-06-03 10:45:20-04:00     A  \n",
      "2  2020-05-26 04:30:07-04:00     A  \n",
      "3  2020-05-22 12:45:06-04:00     A  \n",
      "4  2020-05-22 11:38:59-04:00     A  \n",
      "****************************\n",
      "An overview of the dataset: the last 5 rows\n",
      "         Unnamed: 0                                           headline  \\\n",
      "1407323     1413844             Top Narrow Based Indexes For August 29   \n",
      "1407324     1413845  Recap: Wednesday's Top Percentage Gainers and ...   \n",
      "1407325     1413846  UPDATE: Oppenheimer Color on China Zenix Auto ...   \n",
      "1407326     1413847  Oppenheimer Initiates China Zenix At Outperfor...   \n",
      "1407327     1413848  China Zenix Auto International Opens For Tradi...   \n",
      "\n",
      "                                                       url       publisher  \\\n",
      "1407323  https://www.benzinga.com/news/11/08/1888782/to...   Monica Gerson   \n",
      "1407324  https://www.benzinga.com/news/earnings/11/06/1...    Benjamin Lee   \n",
      "1407325  https://www.benzinga.com/analyst-ratings/analy...  BenzingaStaffL   \n",
      "1407326  https://www.benzinga.com/analyst-ratings/price...       Joe Young   \n",
      "1407327  https://www.benzinga.com/news/ipos/11/05/10789...   Allie Wickman   \n",
      "\n",
      "                        date stock  \n",
      "1407323  2011-08-29 00:00:00    ZX  \n",
      "1407324  2011-06-22 00:00:00    ZX  \n",
      "1407325  2011-06-21 00:00:00    ZX  \n",
      "1407326  2011-06-21 00:00:00    ZX  \n",
      "1407327  2011-05-12 00:00:00    ZX  \n",
      "===========================\n",
      "An overview of the dataset: a random sample of 5 rows\n",
      "         Unnamed: 0                                         headline  \\\n",
      "1229943     1235795  Seaport Global Upgrades Tesoro Logistics to Buy   \n",
      "\n",
      "                                                       url     publisher  \\\n",
      "1229943  https://www.benzinga.com/news/16/01/6139512/se...  Eddie Staley   \n",
      "\n",
      "                        date stock  \n",
      "1229943  2016-01-13 00:00:00  TLLP  \n"
     ]
    }
   ],
   "source": [
    "# performing EDA on the given raw Data set\n",
    "# Data understanding \n",
    "print(\"dataset info\")\n",
    "print(\"Dataset shape:\", df.shape)\n",
    "print(\"Dataset columns:\", df.columns)\n",
    "print(\"An overview of the dataset: the first 5 rows\") \n",
    "print(df.head())\n",
    "# overview of last 5 raws\n",
    "print(\"****************************\")\n",
    "print(\"An overview of the dataset: the last 5 rows\")\n",
    "print(df.tail())\n",
    "print(\"===========================\")\n",
    "print(\"An overview of the dataset: a random sample of 5 rows\")\n",
    "print(df.sample())\n",
    "\n"
   ]
  },
  {
   "cell_type": "code",
   "execution_count": 4,
   "id": "acbbc087",
   "metadata": {},
   "outputs": [
    {
     "name": "stdout",
     "output_type": "stream",
     "text": [
      "****************************\n",
      "Check for missing values: \n",
      "Unnamed: 0    0\n",
      "headline      0\n",
      "url           0\n",
      "publisher     0\n",
      "date          0\n",
      "stock         0\n",
      "dtype: int64\n",
      "1407328\n"
     ]
    }
   ],
   "source": [
    "#1.Check for missing values\n",
    "print(\"****************************\")\n",
    "print(\"Check for missing values: \")\n",
    "print(df.isna().sum())\n",
    "print(len(df))\n"
   ]
  },
  {
   "cell_type": "code",
   "execution_count": null,
   "id": "6491d27d",
   "metadata": {},
   "outputs": [],
   "source": [
    "# 2. Outlier Detection & Basic Cleaning\n",
    "print(\"****************************\")\n",
    "print(\"Outlier Detection & Basic Cleaning: \")"
   ]
  },
  {
   "cell_type": "code",
   "execution_count": 17,
   "id": "5b9eb4ee",
   "metadata": {},
   "outputs": [],
   "source": [
    "def calculate_sentiment(text):\n",
    "    return TextBlob(text).sentiment.polarity\n",
    "#applying the sentiment analysis function to our headline \n",
    "df['Sentiment']=df['headline'].apply(calculate_sentiment)\n"
   ]
  },
  {
   "cell_type": "code",
   "execution_count": 18,
   "id": "10ad0caa",
   "metadata": {},
   "outputs": [
    {
     "data": {
      "text/html": [
       "<div>\n",
       "<style scoped>\n",
       "    .dataframe tbody tr th:only-of-type {\n",
       "        vertical-align: middle;\n",
       "    }\n",
       "\n",
       "    .dataframe tbody tr th {\n",
       "        vertical-align: top;\n",
       "    }\n",
       "\n",
       "    .dataframe thead th {\n",
       "        text-align: right;\n",
       "    }\n",
       "</style>\n",
       "<table border=\"1\" class=\"dataframe\">\n",
       "  <thead>\n",
       "    <tr style=\"text-align: right;\">\n",
       "      <th></th>\n",
       "      <th>Unnamed: 0</th>\n",
       "      <th>headline</th>\n",
       "      <th>url</th>\n",
       "      <th>publisher</th>\n",
       "      <th>date</th>\n",
       "      <th>stock</th>\n",
       "      <th>Sentiment</th>\n",
       "    </tr>\n",
       "  </thead>\n",
       "  <tbody>\n",
       "    <tr>\n",
       "      <th>0</th>\n",
       "      <td>0</td>\n",
       "      <td>Stocks That Hit 52-Week Highs On Friday</td>\n",
       "      <td>https://www.benzinga.com/news/20/06/16190091/s...</td>\n",
       "      <td>Benzinga Insights</td>\n",
       "      <td>2020-06-05 10:30:54-04:00</td>\n",
       "      <td>A</td>\n",
       "      <td>0.0</td>\n",
       "    </tr>\n",
       "    <tr>\n",
       "      <th>1</th>\n",
       "      <td>1</td>\n",
       "      <td>Stocks That Hit 52-Week Highs On Wednesday</td>\n",
       "      <td>https://www.benzinga.com/news/20/06/16170189/s...</td>\n",
       "      <td>Benzinga Insights</td>\n",
       "      <td>2020-06-03 10:45:20-04:00</td>\n",
       "      <td>A</td>\n",
       "      <td>0.0</td>\n",
       "    </tr>\n",
       "    <tr>\n",
       "      <th>2</th>\n",
       "      <td>2</td>\n",
       "      <td>71 Biggest Movers From Friday</td>\n",
       "      <td>https://www.benzinga.com/news/20/05/16103463/7...</td>\n",
       "      <td>Lisa Levin</td>\n",
       "      <td>2020-05-26 04:30:07-04:00</td>\n",
       "      <td>A</td>\n",
       "      <td>0.0</td>\n",
       "    </tr>\n",
       "    <tr>\n",
       "      <th>3</th>\n",
       "      <td>3</td>\n",
       "      <td>46 Stocks Moving In Friday's Mid-Day Session</td>\n",
       "      <td>https://www.benzinga.com/news/20/05/16095921/4...</td>\n",
       "      <td>Lisa Levin</td>\n",
       "      <td>2020-05-22 12:45:06-04:00</td>\n",
       "      <td>A</td>\n",
       "      <td>0.0</td>\n",
       "    </tr>\n",
       "    <tr>\n",
       "      <th>4</th>\n",
       "      <td>4</td>\n",
       "      <td>B of A Securities Maintains Neutral on Agilent...</td>\n",
       "      <td>https://www.benzinga.com/news/20/05/16095304/b...</td>\n",
       "      <td>Vick Meyer</td>\n",
       "      <td>2020-05-22 11:38:59-04:00</td>\n",
       "      <td>A</td>\n",
       "      <td>0.0</td>\n",
       "    </tr>\n",
       "  </tbody>\n",
       "</table>\n",
       "</div>"
      ],
      "text/plain": [
       "   Unnamed: 0                                           headline  \\\n",
       "0           0            Stocks That Hit 52-Week Highs On Friday   \n",
       "1           1         Stocks That Hit 52-Week Highs On Wednesday   \n",
       "2           2                      71 Biggest Movers From Friday   \n",
       "3           3       46 Stocks Moving In Friday's Mid-Day Session   \n",
       "4           4  B of A Securities Maintains Neutral on Agilent...   \n",
       "\n",
       "                                                 url          publisher  \\\n",
       "0  https://www.benzinga.com/news/20/06/16190091/s...  Benzinga Insights   \n",
       "1  https://www.benzinga.com/news/20/06/16170189/s...  Benzinga Insights   \n",
       "2  https://www.benzinga.com/news/20/05/16103463/7...         Lisa Levin   \n",
       "3  https://www.benzinga.com/news/20/05/16095921/4...         Lisa Levin   \n",
       "4  https://www.benzinga.com/news/20/05/16095304/b...         Vick Meyer   \n",
       "\n",
       "                        date stock  Sentiment  \n",
       "0  2020-06-05 10:30:54-04:00     A        0.0  \n",
       "1  2020-06-03 10:45:20-04:00     A        0.0  \n",
       "2  2020-05-26 04:30:07-04:00     A        0.0  \n",
       "3  2020-05-22 12:45:06-04:00     A        0.0  \n",
       "4  2020-05-22 11:38:59-04:00     A        0.0  "
      ]
     },
     "execution_count": 18,
     "metadata": {},
     "output_type": "execute_result"
    }
   ],
   "source": [
    "df.head()"
   ]
  },
  {
   "cell_type": "code",
   "execution_count": 19,
   "id": "263ba0f4",
   "metadata": {},
   "outputs": [
    {
     "name": "stdout",
     "output_type": "stream",
     "text": [
      "Descriptive statistics for 'headline' column:\n",
      "count                     1407328\n",
      "unique                     845770\n",
      "top       Benzinga's Top Upgrades\n",
      "freq                         5449\n",
      "Name: headline, dtype: object\n",
      "\n",
      "Missing values in 'headline' column: \n",
      "0\n",
      "\n",
      "Number of unique headlines:\n",
      "845770\n",
      "\n",
      "Most frequent headlines:\n",
      "headline\n",
      "Benzinga's Top Upgrades                     5449\n",
      "Benzinga's Top Downgrades                   5372\n",
      "Benzinga's Top Initiations                  4241\n",
      "Stocks That Hit 52-Week Lows On Thursday    3962\n",
      "Morning Market Losers                       3440\n",
      "Name: count, dtype: int64\n",
      "\n",
      "Sentiment distribution:\n",
      "count    1.407328e+06\n",
      "mean     4.905657e-02\n",
      "std      1.830652e-01\n",
      "min     -1.000000e+00\n",
      "25%      0.000000e+00\n",
      "50%      0.000000e+00\n",
      "75%      0.000000e+00\n",
      "max      1.000000e+00\n",
      "Name: Sentiment, dtype: float64\n"
     ]
    },
    {
     "data": {
      "image/png": "[encoded data removed]",
      "text/plain": [
       "<Figure size 800x400 with 1 Axes>"
      ]
     },
     "metadata": {},
     "output_type": "display_data"
    }
   ],
   "source": [
    "# Display descriptive statistics for the 'headline' column \n",
    "print(\"Descriptive statistics for 'headline' column:\") \n",
    "print(df['headline'].describe())\n",
    "# Check for missing values in the 'headline' column \n",
    "print(\"\\nMissing values in 'headline' column: \") \n",
    "print(df['headline'].isnull().sum())\n",
    "# Get the number of unique headlines \n",
    "print(\"\\nNumber of unique headlines:\") \n",
    "print(df['headline'].nunique())\n",
    "#Display the most frequent headlines\n",
    "print(\"\\nMost frequent headlines:\")\n",
    "print (df['headline'].value_counts().head())\n",
    "#  distribution of sentiment scores calculated earlier \n",
    "print(\"\\nSentiment distribution:\")\n",
    "print(df['Sentiment'].describe())\n",
    "#Plot the distribution of sentiment scores\n",
    "plt.figure(figsize=(8, 4))\n",
    "sns.histplot(df[ 'Sentiment'], bins=20, kde=True)\n",
    "plt.title('Distribution of Sentiment Scores for Headlines')\n",
    "plt.xlabel('Sentiment Polarity')\n",
    "plt.ylabel('Frequency')\n",
    "plt.show()"
   ]
  },
  {
   "cell_type": "code",
   "execution_count": 9,
   "id": "37250df3",
   "metadata": {},
   "outputs": [
    {
     "name": "stdout",
     "output_type": "stream",
     "text": [
      "\n",
      "Most positive headline:\n"
     ]
    },
    {
     "ename": "NameError",
     "evalue": "name 'df' is not defined",
     "output_type": "error",
     "traceback": [
      "\u001b[31m---------------------------------------------------------------------------\u001b[39m",
      "\u001b[31mNameError\u001b[39m                                 Traceback (most recent call last)",
      "\u001b[36mCell\u001b[39m\u001b[36m \u001b[39m\u001b[32mIn[13]\u001b[39m\u001b[32m, line 3\u001b[39m\n\u001b[32m      1\u001b[39m \u001b[38;5;66;03m# Analysis the sentiment most positive and negative headlines \u001b[39;00m\n\u001b[32m      2\u001b[39m \u001b[38;5;28mprint\u001b[39m(\u001b[33m\"\u001b[39m\u001b[38;5;130;01m\\n\u001b[39;00m\u001b[33mMost positive headline:\u001b[39m\u001b[33m\"\u001b[39m)\n\u001b[32m----> \u001b[39m\u001b[32m3\u001b[39m \u001b[38;5;28mprint\u001b[39m(\u001b[43mdf\u001b[49m.loc[df[\u001b[33m'\u001b[39m\u001b[33mSentiment\u001b[39m\u001b[33m'\u001b[39m].idxmax(), \u001b[33m'\u001b[39m\u001b[33mheadline\u001b[39m\u001b[33m'\u001b[39m])\n\u001b[32m      4\u001b[39m \u001b[38;5;66;03m# Display the most positive headline\u001b[39;00m\n\u001b[32m      5\u001b[39m \u001b[38;5;28mprint\u001b[39m(\u001b[33m\"\u001b[39m\u001b[38;5;130;01m\\n\u001b[39;00m\u001b[33mMost negative headline:\u001b[39m\u001b[33m\"\u001b[39m)\n",
      "\u001b[31mNameError\u001b[39m: name 'df' is not defined"
     ]
    }
   ],
   "source": [
    "# Analysis the sentiment most positive and negative headlines \n",
    "print(\"\\nMost positive headline:\")\n",
    "print(df.loc[df['Sentiment'].idxmax(), 'headline'])\n",
    "# Display the most positive headline\n",
    "print(\"\\nMost negative headline:\")\n",
    "print(df.loc[df['Sentiment'].idxmin(), 'headline'])\n",
    "# Count the number of positive, negative, and neutral headlines\n",
    "print(\"\\nSentiment counts:\")\n",
    "sentiment_counts = df['Sentiment'].apply(lambda x: 'Positive' if x > 0 else ('Negative' if x < 0 else 'Neutral')).value_counts()\n",
    "print(sentiment_counts)\n",
    "#plot the sentiment count distribution\n",
    "plt.figure(figsize=(8, 4))\n",
    "sns.countplot(x=df['Sentiment'].apply(lambda x: 'Positive' if x > 0 else ('Negative' if x < 0 else 'Neutral')))\n",
    "plt.title('Sentiment Count Distribution')\n",
    "plt.xlabel('Sentiment')\n",
    "plt.ylabel('Count')\n",
    "plt.show()\n",
    "\n"
   ]
  },
  {
   "cell_type": "code",
   "execution_count": null,
   "id": "985ef741",
   "metadata": {},
   "outputs": [
    {
     "ename": "NameError",
     "evalue": "name 'df' is not defined",
     "output_type": "error",
     "traceback": [
      "\u001b[31m---------------------------------------------------------------------------\u001b[39m",
      "\u001b[31mNameError\u001b[39m                                 Traceback (most recent call last)",
      "\u001b[36mCell\u001b[39m\u001b[36m \u001b[39m\u001b[32mIn[11]\u001b[39m\u001b[32m, line 1\u001b[39m\n\u001b[32m----> \u001b[39m\u001b[32m1\u001b[39m most_positive_headlines=\u001b[43mdf\u001b[49m.nlargest(\u001b[32m5\u001b[39m,\u001b[33m'\u001b[39m\u001b[33mSentiment\u001b[39m\u001b[33m'\u001b[39m)\n\u001b[32m      2\u001b[39m \u001b[38;5;28mprint\u001b[39m(\u001b[33m\"\u001b[39m\u001b[38;5;130;01m\\n\u001b[39;00m\u001b[33mTop 5 most positive headlines:\u001b[39m\u001b[33m\"\u001b[39m)\n\u001b[32m      3\u001b[39m \u001b[38;5;28mprint\u001b[39m(most_positive_headlines[[\u001b[33m'\u001b[39m\u001b[33mheadline\u001b[39m\u001b[33m'\u001b[39m, \u001b[33m'\u001b[39m\u001b[33mSentiment\u001b[39m\u001b[33m'\u001b[39m]])\n",
      "\u001b[31mNameError\u001b[39m: name 'df' is not defined"
     ]
    }
   ],
   "source": [
    "most_positive_headlines=df.nlargest(5,'Sentiment')\n",
    "print(\"\\nTop 5 most positive headlines:\")\n",
    "print(most_positive_headlines[['headline', 'Sentiment']])"
   ]
  },
  {
   "cell_type": "code",
   "execution_count": 21,
   "id": "cc966cf4",
   "metadata": {},
   "outputs": [],
   "source": [
    "# Save the processed DataFrame to a new CSV file\n",
    "output_file = 'F:/Week1_Challenge/Data/processed_analyst_ratings.csv'\n",
    "df.to_csv(output_file, index=False)"
   ]
  },
  {
   "cell_type": "code",
   "execution_count": null,
   "id": "146e3b77",
   "metadata": {},
   "outputs": [],
   "source": []
  }
 ],
 "metadata": {
  "kernelspec": {
   "display_name": "Weekone",
   "language": "python",
   "name": "python3"
  },
  "language_info": {
   "codemirror_mode": {
    "name": "ipython",
    "version": 3
   },
   "file_extension": ".py",
   "mimetype": "text/x-python",
   "name": "python",
   "nbconvert_exporter": "python",
   "pygments_lexer": "ipython3",
   "version": "3.12.0"
  }
 },
 "nbformat": 4,
 "nbformat_minor": 5
}
