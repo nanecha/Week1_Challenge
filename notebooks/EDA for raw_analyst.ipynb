{
 "cells": [
  {
   "cell_type": "code",
   "execution_count": null,
   "id": "3fbdfe31",
   "metadata": {},
   "outputs": [],
   "source": [
    "#Import the dependencies \n",
    "import pandas as pd\n",
    "import numpy as np\n",
    "import matplotlib.pyplot as plt\n",
    "import seaborn as sns\n",
    "from scipy import stats\n",
    "\n",
    "import os"
   ]
  },
  {
   "cell_type": "code",
   "execution_count": null,
   "id": "e8c2a03d",
   "metadata": {},
   "outputs": [],
   "source": []
  },
  {
   "cell_type": "code",
   "execution_count": null,
   "id": "c6507e2e",
   "metadata": {},
   "outputs": [],
   "source": [
    "#Load dataset\n",
    "df = pd.read_csv('F:/Week1_Challenge/Data/raw_analyst_ratings.csv')\n",
    "#df=pd.read_csv('F:/solar-challenge-week1/data/togo_raw.csv')"
   ]
  },
  {
   "cell_type": "code",
   "execution_count": null,
   "id": "69ffd3c3",
   "metadata": {},
   "outputs": [],
   "source": [
    "# performing EDA on the given raw Data set\n",
    "# Data understanding \n",
    "print(\"dataset info\")\n",
    "print(\"Dataset shape:\", df.shape)\n",
    "print(\"Dataset columns:\", df.columns)\n",
    "print(\"An overview of the dataset: the first 5 rows\") \n",
    "print(df.head())\n",
    "# overview of last 5 raws\n",
    "print(\"****************************\")\n",
    "print(\"An overview of the dataset: the last 5 rows\")\n",
    "print(df.tail())\n",
    "print(\"===========================\")\n",
    "print(\"An overview of the dataset: a random sample of 5 rows\")\n",
    "print(df.sample())\n",
    "\n"
   ]
  },
  {
   "cell_type": "code",
   "execution_count": null,
   "id": "acbbc087",
   "metadata": {},
   "outputs": [],
   "source": [
    "#1.Check for missing values\n",
    "print(\"****************************\")\n",
    "print(\"Check for missing values: \")\n",
    "print(df.isna().sum())\n",
    "print(len(df))\n"
   ]
  },
  {
   "cell_type": "code",
   "execution_count": null,
   "id": "5b9eb4ee",
   "metadata": {},
   "outputs": [],
   "source": [
    "def calculate_sentiment(text):\n",
    "    return TextBlob(text).sentiment.polarity\n",
    "#applying the sentiment analysis function to our headline \n",
    "df['Sentiment']=df['headline'].apply(calculate_sentiment)\n"
   ]
  },
  {
   "cell_type": "code",
   "execution_count": null,
   "id": "10ad0caa",
   "metadata": {},
   "outputs": [],
   "source": [
    "df.head()"
   ]
  },
  {
   "cell_type": "code",
   "execution_count": null,
   "id": "a872bf18",
   "metadata": {},
   "outputs": [],
   "source": [
    "# Discribing the statistics for headline column\n",
    "print(\"Descriptive Statistics for Headline column\")\n",
    "print(df['headline'].describe)\n"
   ]
  },
  {
   "cell_type": "code",
   "execution_count": null,
   "id": "681a7b97",
   "metadata": {},
   "outputs": [
    {
     "name": "stdout",
     "output_type": "stream",
     "text": [
      "\n",
      "=== Outlier Detection (Z-scores > 3) ===\n"
     ]
    }
   ],
   "source": [
    "# 2. Outlier Detection & Basic Cleaning\n",
    "#key_columns = ['GHI', 'DNI', 'DHI', 'ModA', 'ModB', 'WS', 'WSgust']\n",
    "print(\"\\n=== Outlier Detection (Z-scores > 3) ===\")\n",
    "for col in df.columns:\n",
    "    df[f'{col}_zscore'] = np.abs(stats.zscore(df[col], nan_policy='omit'))\n",
    "outliers = df[df[[f'{col}_zscore' for col in df.columns]].gt(3).any(axis=1)]\n",
    "print(f\"Number of rows with outliers (|Z|>3): {len(outliers)}\")"
   ]
  },
  {
   "cell_type": "code",
   "execution_count": null,
   "id": "146e3b77",
   "metadata": {},
   "outputs": [],
   "source": [
    "## Impute missing values in key columns with median\n",
    "for col in df.columns::\n",
    "    df[col].fillna(df[col].median(), inplace=True)\n",
    "\n",
    "# Drop rows with missing Timestamp or other critical non-numeric columns if any\n",
    "df.dropna(subset=['Timestamp'], inplace=True)\n"
   ]
  },
  {
   "cell_type": "code",
   "execution_count": null,
   "id": "0970e208",
   "metadata": {},
   "outputs": [],
   "source": [
    "df('headline')"
   ]
  }
 ],
 "metadata": {
  "kernelspec": {
   "display_name": "Weekone",
   "language": "python",
   "name": "python3"
  },
  "language_info": {
   "codemirror_mode": {
    "name": "ipython",
    "version": 3
   },
   "file_extension": ".py",
   "mimetype": "text/x-python",
   "name": "python",
   "nbconvert_exporter": "python",
   "pygments_lexer": "ipython3",
   "version": "3.12.0"
  }
 },
 "nbformat": 4,
 "nbformat_minor": 5
}
